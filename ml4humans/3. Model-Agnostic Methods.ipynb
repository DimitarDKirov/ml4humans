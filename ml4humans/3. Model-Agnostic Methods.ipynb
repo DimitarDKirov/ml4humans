{
 "cells": [
  {
   "cell_type": "markdown",
   "metadata": {},
   "source": [
    "# Model Agnostic Methods\n",
    "\n",
    "Sometimes, the interpretable models just don't cut it and we need to resort a more complex model. This is absolutely normal - complex problems often require complex solutions. However, we still need to be able to verify and validate the model. We need to be able to understand how it works and how it can be manipulated or misused.\n",
    "\n",
    "This is where model agnostic methods come into play. In this case we can only manipulate the inputs and observe the change in outputs. \n",
    "\n",
    "This notebook will cover three methods:\n",
    "1. Partial Dependence Plots\n",
    "2. Permutation Feature Importance\n",
    "3. Surrogate methods\n",
    "\n",
    "Again, please reference https://christophm.github.io/interpretable-ml-book/agnostic.html for a lot more detail and more sophisticated methods."
   ]
  },
  {
   "cell_type": "code",
   "execution_count": 10,
   "metadata": {},
   "outputs": [],
   "source": [
    "import pandas as pd\n",
    "import matplotlib.pyplot as plt\n",
    "import seaborn as sns\n",
    "sns.set('notebook')\n",
    "sns.set_style('white')"
   ]
  },
  {
   "cell_type": "code",
   "execution_count": 3,
   "metadata": {},
   "outputs": [
    {
     "data": {
      "text/html": [
       "<div>\n",
       "<style scoped>\n",
       "    .dataframe tbody tr th:only-of-type {\n",
       "        vertical-align: middle;\n",
       "    }\n",
       "\n",
       "    .dataframe tbody tr th {\n",
       "        vertical-align: top;\n",
       "    }\n",
       "\n",
       "    .dataframe thead th {\n",
       "        text-align: right;\n",
       "    }\n",
       "</style>\n",
       "<table border=\"1\" class=\"dataframe\">\n",
       "  <thead>\n",
       "    <tr style=\"text-align: right;\">\n",
       "      <th></th>\n",
       "      <th>Unnamed: 0</th>\n",
       "      <th>deputat</th>\n",
       "      <th>party</th>\n",
       "      <th>present</th>\n",
       "      <th>date</th>\n",
       "      <th>Year</th>\n",
       "      <th>Month</th>\n",
       "      <th>Week</th>\n",
       "      <th>Day</th>\n",
       "      <th>Dayofweek</th>\n",
       "      <th>Is_month_end</th>\n",
       "      <th>Is_month_start</th>\n",
       "      <th>Is_quarter_end</th>\n",
       "      <th>Is_quarter_start</th>\n",
       "      <th>Is_year_end</th>\n",
       "      <th>Is_year_start</th>\n",
       "      <th>present_last_ass</th>\n",
       "      <th>present_last_5ass</th>\n",
       "    </tr>\n",
       "  </thead>\n",
       "  <tbody>\n",
       "    <tr>\n",
       "      <th>5</th>\n",
       "      <td>5</td>\n",
       "      <td>АДЛЕН ШУКРИ ШЕВКЕД</td>\n",
       "      <td>ДПС</td>\n",
       "      <td>False</td>\n",
       "      <td>2019-01-24</td>\n",
       "      <td>2019</td>\n",
       "      <td>1</td>\n",
       "      <td>4</td>\n",
       "      <td>24</td>\n",
       "      <td>3</td>\n",
       "      <td>False</td>\n",
       "      <td>False</td>\n",
       "      <td>False</td>\n",
       "      <td>False</td>\n",
       "      <td>False</td>\n",
       "      <td>False</td>\n",
       "      <td>0.0</td>\n",
       "      <td>0.6</td>\n",
       "    </tr>\n",
       "    <tr>\n",
       "      <th>6</th>\n",
       "      <td>6</td>\n",
       "      <td>АДЛЕН ШУКРИ ШЕВКЕД</td>\n",
       "      <td>ДПС</td>\n",
       "      <td>False</td>\n",
       "      <td>2019-01-25</td>\n",
       "      <td>2019</td>\n",
       "      <td>1</td>\n",
       "      <td>4</td>\n",
       "      <td>25</td>\n",
       "      <td>4</td>\n",
       "      <td>False</td>\n",
       "      <td>False</td>\n",
       "      <td>False</td>\n",
       "      <td>False</td>\n",
       "      <td>False</td>\n",
       "      <td>False</td>\n",
       "      <td>0.0</td>\n",
       "      <td>0.4</td>\n",
       "    </tr>\n",
       "    <tr>\n",
       "      <th>7</th>\n",
       "      <td>7</td>\n",
       "      <td>АДЛЕН ШУКРИ ШЕВКЕД</td>\n",
       "      <td>ДПС</td>\n",
       "      <td>False</td>\n",
       "      <td>2019-01-30</td>\n",
       "      <td>2019</td>\n",
       "      <td>1</td>\n",
       "      <td>5</td>\n",
       "      <td>30</td>\n",
       "      <td>2</td>\n",
       "      <td>False</td>\n",
       "      <td>False</td>\n",
       "      <td>False</td>\n",
       "      <td>False</td>\n",
       "      <td>False</td>\n",
       "      <td>False</td>\n",
       "      <td>0.0</td>\n",
       "      <td>0.4</td>\n",
       "    </tr>\n",
       "    <tr>\n",
       "      <th>8</th>\n",
       "      <td>8</td>\n",
       "      <td>АДЛЕН ШУКРИ ШЕВКЕД</td>\n",
       "      <td>ДПС</td>\n",
       "      <td>False</td>\n",
       "      <td>2019-01-31</td>\n",
       "      <td>2019</td>\n",
       "      <td>1</td>\n",
       "      <td>5</td>\n",
       "      <td>31</td>\n",
       "      <td>3</td>\n",
       "      <td>True</td>\n",
       "      <td>False</td>\n",
       "      <td>False</td>\n",
       "      <td>False</td>\n",
       "      <td>False</td>\n",
       "      <td>False</td>\n",
       "      <td>0.0</td>\n",
       "      <td>0.2</td>\n",
       "    </tr>\n",
       "    <tr>\n",
       "      <th>9</th>\n",
       "      <td>9</td>\n",
       "      <td>АДЛЕН ШУКРИ ШЕВКЕД</td>\n",
       "      <td>ДПС</td>\n",
       "      <td>False</td>\n",
       "      <td>2019-02-01</td>\n",
       "      <td>2019</td>\n",
       "      <td>2</td>\n",
       "      <td>5</td>\n",
       "      <td>1</td>\n",
       "      <td>4</td>\n",
       "      <td>False</td>\n",
       "      <td>True</td>\n",
       "      <td>False</td>\n",
       "      <td>False</td>\n",
       "      <td>False</td>\n",
       "      <td>False</td>\n",
       "      <td>0.0</td>\n",
       "      <td>0.0</td>\n",
       "    </tr>\n",
       "  </tbody>\n",
       "</table>\n",
       "</div>"
      ],
      "text/plain": [
       "   Unnamed: 0             deputat party  present        date  Year  Month  \\\n",
       "5           5  АДЛЕН ШУКРИ ШЕВКЕД   ДПС    False  2019-01-24  2019      1   \n",
       "6           6  АДЛЕН ШУКРИ ШЕВКЕД   ДПС    False  2019-01-25  2019      1   \n",
       "7           7  АДЛЕН ШУКРИ ШЕВКЕД   ДПС    False  2019-01-30  2019      1   \n",
       "8           8  АДЛЕН ШУКРИ ШЕВКЕД   ДПС    False  2019-01-31  2019      1   \n",
       "9           9  АДЛЕН ШУКРИ ШЕВКЕД   ДПС    False  2019-02-01  2019      2   \n",
       "\n",
       "   Week  Day  Dayofweek  Is_month_end  Is_month_start  Is_quarter_end  \\\n",
       "5     4   24          3         False           False           False   \n",
       "6     4   25          4         False           False           False   \n",
       "7     5   30          2         False           False           False   \n",
       "8     5   31          3          True           False           False   \n",
       "9     5    1          4         False            True           False   \n",
       "\n",
       "   Is_quarter_start  Is_year_end  Is_year_start  present_last_ass  \\\n",
       "5             False        False          False               0.0   \n",
       "6             False        False          False               0.0   \n",
       "7             False        False          False               0.0   \n",
       "8             False        False          False               0.0   \n",
       "9             False        False          False               0.0   \n",
       "\n",
       "   present_last_5ass  \n",
       "5                0.6  \n",
       "6                0.4  \n",
       "7                0.4  \n",
       "8                0.2  \n",
       "9                0.0  "
      ]
     },
     "execution_count": 3,
     "metadata": {},
     "output_type": "execute_result"
    }
   ],
   "source": [
    "data = pd.read_csv('../data/deputat_daily_features.csv').dropna()\n",
    "data.head()"
   ]
  },
  {
   "cell_type": "code",
   "execution_count": 4,
   "metadata": {},
   "outputs": [],
   "source": [
    "numerical_features = ['present_last_ass', 'present_last_5ass']\n",
    "categorical_features = ['party']\n",
    "\n",
    "def prepare_features_df(data):\n",
    "    features_df = data[numerical_features].copy()\n",
    "\n",
    "    for cat_feat in categorical_features:\n",
    "        dummies = pd.get_dummies(data[cat_feat], prefix=cat_feat)\n",
    "        dummies = dummies.drop(columns=dummies.columns[:1])\n",
    "        features_df = pd.concat([features_df, dummies],axis=1)\n",
    "    features_df['bias'] = 1\n",
    "    return features_df\n",
    "\n",
    "\n",
    "    \n",
    "features_df = prepare_features_df(data)"
   ]
  },
  {
   "cell_type": "markdown",
   "metadata": {},
   "source": [
    "## Train the black box model\n",
    "\n",
    "To test the methods, we will be using a deep neural network - a 3-layer perceptron. We're using it for illustrative purposes, so we don't need to go overly complex.\n"
   ]
  },
  {
   "cell_type": "code",
   "execution_count": 5,
   "metadata": {},
   "outputs": [],
   "source": [
    "from sklearn.neural_network import MLPClassifier"
   ]
  },
  {
   "cell_type": "code",
   "execution_count": 6,
   "metadata": {},
   "outputs": [],
   "source": [
    "# define the model\n",
    "model = MLPClassifier(hidden_layer_sizes=(50, 20, 10))"
   ]
  },
  {
   "cell_type": "code",
   "execution_count": 7,
   "metadata": {},
   "outputs": [
    {
     "data": {
      "text/plain": [
       "MLPClassifier(hidden_layer_sizes=(50, 20, 10))"
      ]
     },
     "execution_count": 7,
     "metadata": {},
     "output_type": "execute_result"
    }
   ],
   "source": [
    "# fit the model\n",
    "model.fit(features_df.values, data['present'])"
   ]
  },
  {
   "cell_type": "code",
   "execution_count": 8,
   "metadata": {},
   "outputs": [
    {
     "data": {
      "text/plain": [
       "0.7480953199289683"
      ]
     },
     "execution_count": 8,
     "metadata": {},
     "output_type": "execute_result"
    }
   ],
   "source": [
    "# score the model\n",
    "model.score(features_df.values, data['present'])"
   ]
  },
  {
   "cell_type": "code",
   "execution_count": 9,
   "metadata": {},
   "outputs": [],
   "source": [
    "predictions = model.predict_proba(features_df.values)[:,1]"
   ]
  },
  {
   "cell_type": "markdown",
   "metadata": {},
   "source": [
    "## Partial Dependence Plot\n",
    "\n",
    "The Partial Dependence Plot(PDP) is quite an intuitive method. To reason about how the predictions change with a given feature, we measure the mean prediction for a dataset where the feature is set to a particular value across a range of values.\n",
    "\n",
    "For example, we will measure how the `present_last_5ass` feature impacts the prediction. To do so, we define a range of levels `[0, 0.1,0.2,0.3,0.4,0.5,0.6,0.7,0.8, 0.9, 1.]`. For each levels we set the feature value to be equal to the level for each example in the dataset and run inference. The PDP is then a plot of the mean predictions for each of the levels."
   ]
  },
  {
   "cell_type": "code",
   "execution_count": 11,
   "metadata": {},
   "outputs": [],
   "source": [
    "from sklearn.inspection import partial_dependence,plot_partial_dependence"
   ]
  },
  {
   "cell_type": "code",
   "execution_count": 12,
   "metadata": {},
   "outputs": [
    {
     "data": {
      "text/plain": [
       "(0.5,\n",
       " [0.26341112008895956,\n",
       "  0.3263448727977926,\n",
       "  0.3991142948456651,\n",
       "  0.4553505355220333,\n",
       "  0.5102746697303342,\n",
       "  0.5657748756793335,\n",
       "  0.6222834842871127,\n",
       "  0.6780252322645839,\n",
       "  0.7284671332393872,\n",
       "  0.7737439901027591,\n",
       "  0.8080302217144165])"
      ]
     },
     "execution_count": 12,
     "metadata": {},
     "output_type": "execute_result"
    }
   ],
   "source": [
    "# mean prediction\n",
    "before = model.predict_proba(features_df.values).mean()\n",
    "afters = []\n",
    "\n",
    "for level in [0, 0.1,0.2,0.3,0.4,0.5,0.6,0.7,0.8, 0.9, 1.]:    \n",
    "    modified_data = data.copy()\n",
    "    \n",
    "    #set the feature to the current level\n",
    "    modified_data['present_last_5ass'] = level\n",
    "    partial_dep_df = prepare_features_df(modified_data)\n",
    "    after = model.predict_proba(partial_dep_df.values)[:,1].mean()\n",
    "    afters.append(after)\n",
    "    \n",
    "before, afters"
   ]
  },
  {
   "cell_type": "code",
   "execution_count": 13,
   "metadata": {},
   "outputs": [
    {
     "data": {
      "image/png": "[encoded data removed]",
      "text/plain": [
       "<Figure size 432x288 with 1 Axes>"
      ]
     },
     "metadata": {},
     "output_type": "display_data"
    }
   ],
   "source": [
    "fig, ax = plt.subplots()\n",
    "sns.despine(fig)\n",
    "ax.plot([0, 0.1,0.2,0.3,0.4,0.5,0.6,0.7,0.8, 0.9, 1.], afters, 'bo-')\n",
    "ax.set_ylim((0, max(afters) + 0.1));"
   ]
  },
  {
   "cell_type": "code",
   "execution_count": 67,
   "metadata": {},
   "outputs": [
    {
     "data": {
      "text/plain": [
       "party_ДПС      0.562296\n",
       "party_НЕЗ      0.562296\n",
       "base           0.622902\n",
       "party_ГЕРБ     0.622902\n",
       "party_ПГБСП    0.622902\n",
       "party_ОП       0.648021\n",
       "dtype: float64"
      ]
     },
     "metadata": {},
     "output_type": "display_data"
    },
    {
     "data": {
      "image/png": "[encoded data removed]",
      "text/plain": [
       "<Figure size 432x288 with 1 Axes>"
      ]
     },
     "metadata": {},
     "output_type": "display_data"
    }
   ],
   "source": [
    "def pdp_categorical(model, features, feature_prefix):\n",
    "    feature_columns = [x for x in features.columns if x.startswith(feature_prefix)]\n",
    "    pdp_features = features.copy()\n",
    "    pdp_features[feature_columns] = 0\n",
    "    base_preds = model.predict(pdp_features)\n",
    "    scores = {\n",
    "        'base': base_preds.mean()\n",
    "    }\n",
    "    for feature_col in feature_columns:\n",
    "        pdp_features[feature_col] = 1\n",
    "        scores[feature_col] = model.predict(pdp_features).mean()\n",
    "        pdp_features[feature_col] = 0\n",
    "    return pd.Series(scores).sort_values()\n",
    "\n",
    "scores = pdp_categorical(model, features_df, 'party_')\n",
    "display(scores)\n",
    "\n",
    "fig, ax = plt.subplots()\n",
    "sns.despine(fig, left=True)\n",
    "\n",
    "pd.Series(scores).sort_values().plot(kind='barh', ax= ax);\n"
   ]
  },
  {
   "cell_type": "markdown",
   "metadata": {},
   "source": [
    "## Permutation Feature Importance\n",
    "\n",
    "With permutation feature importance, we reason how erasing the information from a given feature changes the quality of the output.\n",
    "\n",
    "The procedure for a feature of interest `x` is as follows:\n",
    "\n",
    "1. Randomly shuffle the values of `x` for the entire dataset\n",
    "2. Run inference\n",
    "3. Compute the value of the validation function(e.g. accuracy)\n",
    "\n",
    "If the accuracy of the predictions from the shuffled data has dropped, then the feature is important. If it stays the same, then the model does not pay attention to it."
   ]
  },
  {
   "cell_type": "code",
   "execution_count": 17,
   "metadata": {},
   "outputs": [],
   "source": [
    "import numpy as np"
   ]
  },
  {
   "cell_type": "code",
   "execution_count": 20,
   "metadata": {},
   "outputs": [
    {
     "data": {
      "text/plain": [
       "array([1. , 1. , 0.6, ..., 0.6, 0.2, 0.8])"
      ]
     },
     "execution_count": 20,
     "metadata": {},
     "output_type": "execute_result"
    }
   ],
   "source": []
  },
  {
   "cell_type": "code",
   "execution_count": 41,
   "metadata": {},
   "outputs": [
    {
     "data": {
      "text/plain": [
       "0.1980466288594832"
      ]
     },
     "execution_count": 41,
     "metadata": {},
     "output_type": "execute_result"
    }
   ],
   "source": [
    "\n",
    "def get_perm_importance(features_df, feat):\n",
    "    orig_score = model.score(features_df, data['present'])\n",
    "    shuffled_scores = []\n",
    "\n",
    "    for _ in range(5):\n",
    "        df = features_df.copy()\n",
    "        df[feat] = np.random.permutation(df[feat])\n",
    "        shuffled_score = model.score(df, data['present'])\n",
    "        shuffled_scores.append(shuffled_score)\n",
    "    return orig_score - np.mean(shuffled_scores)\n",
    "\n",
    "get_perm_importance(features_df, 'present_last_5ass')"
   ]
  },
  {
   "cell_type": "markdown",
   "metadata": {},
   "source": [
    "## Global Surrogate\n",
    "\n",
    "The concept behind the global surrogate model is quite simple: Train an interpretable model that can reproduce the outputs of the black box model.\n",
    "\n",
    "Note in this case, that we are trying to interpret the model. The resulting interpretation explains the model, not the data."
   ]
  },
  {
   "cell_type": "code",
   "execution_count": 43,
   "metadata": {},
   "outputs": [],
   "source": [
    "from statsmodels import api"
   ]
  },
  {
   "cell_type": "code",
   "execution_count": 44,
   "metadata": {},
   "outputs": [],
   "source": [
    "# NOTE: we are fitting against the predictions and not the actual values\n",
    "lin_reg = api.OLS(predictions, features_df)"
   ]
  },
  {
   "cell_type": "code",
   "execution_count": 45,
   "metadata": {},
   "outputs": [],
   "source": [
    "results = lin_reg.fit()"
   ]
  },
  {
   "cell_type": "code",
   "execution_count": 46,
   "metadata": {},
   "outputs": [],
   "source": [
    "from interpretable_models import weight_plot, effect_plot\n"
   ]
  },
  {
   "cell_type": "code",
   "execution_count": 47,
   "metadata": {},
   "outputs": [
    {
     "data": {
      "image/png": "[encoded data removed]",
      "text/plain": [
       "<Figure size 864x288 with 1 Axes>"
      ]
     },
     "metadata": {},
     "output_type": "display_data"
    }
   ],
   "source": [
    "weight_plot(results)"
   ]
  },
  {
   "cell_type": "code",
   "execution_count": 48,
   "metadata": {},
   "outputs": [
    {
     "data": {
      "image/png": "[encoded data removed]",
      "text/plain": [
       "<Figure size 864x648 with 1 Axes>"
      ]
     },
     "metadata": {},
     "output_type": "display_data"
    }
   ],
   "source": [
    "effect_plot(results, features_df);"
   ]
  },
  {
   "cell_type": "markdown",
   "metadata": {},
   "source": [
    "## LIME: Local interpretable model-agnostic explanations\n",
    "\n",
    "LIME is essentially a surrogate method. The difference is that instead of trying to approximate the model in the global setting, we are trying to understand how the model behaves for a subspace of the parameter space.\n",
    "\n",
    "The assumption is that while the model might be super complex in the global level, we should be able to reason about how the predictions change around a given point of interest.\n",
    "\n",
    "The procedure is as follows:\n",
    "1. Pick a point or a collection of points of interest\n",
    "2. Generate/sample artificial points in the neighbourhood of the point of interest\n",
    "3. Train a surrogate interpretable model on the generated points, weighted by proximity to the point of interest\n",
    "4. Inspect the surrogate model\n",
    "\n",
    "![](https://christophm.github.io/interpretable-ml-book/images/lime-fitting-1.png)\n",
    ">FIGURE 5.33 of Interpretable Machine Learning: LIME algorithm for tabular data. A) Random forest predictions given features x1 and x2. Predicted classes: 1 (dark) or 0 (light). B) Instance of interest (big dot) and data sampled from a normal distribution (small dots). C) Assign higher weight to points near the instance of interest. D) Signs of the grid show the classifications of the locally learned model from the weighted samples. The white line marks the decision boundary (P(class=1) = 0.5)."
   ]
  }
 ],
 "metadata": {
  "kernelspec": {
   "display_name": "Python 3",
   "language": "python",
   "name": "python3"
  },
  "language_info": {
   "codemirror_mode": {
    "name": "ipython",
    "version": 3
   },
   "file_extension": ".py",
   "mimetype": "text/x-python",
   "name": "python",
   "nbconvert_exporter": "python",
   "pygments_lexer": "ipython3",
   "version": "3.6.9"
  },
  "varInspector": {
   "cols": {
    "lenName": 16,
    "lenType": 16,
    "lenVar": 40
   },
   "kernels_config": {
    "python": {
     "delete_cmd_postfix": "",
     "delete_cmd_prefix": "del ",
     "library": "var_list.py",
     "varRefreshCmd": "print(var_dic_list())"
    },
    "r": {
     "delete_cmd_postfix": ") ",
     "delete_cmd_prefix": "rm(",
     "library": "var_list.r",
     "varRefreshCmd": "cat(var_dic_list()) "
    }
   },
   "types_to_exclude": [
    "module",
    "function",
    "builtin_function_or_method",
    "instance",
    "_Feature"
   ],
   "window_display": false
  }
 },
 "nbformat": 4,
 "nbformat_minor": 4
}
