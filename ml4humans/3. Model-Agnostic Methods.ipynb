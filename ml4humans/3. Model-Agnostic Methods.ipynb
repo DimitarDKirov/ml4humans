{
 "cells": [
  {
   "cell_type": "markdown",
   "metadata": {},
   "source": [
    "# Model Agnostic Methods\n",
    "\n",
    "Sometimes, the interpretable models just don't cut it and we need to resort a more complex model. This is absolutely normal - complex problems often require complex solutions. However, we still need to be able to verify and validate the model. We need to be able to understand how it works and how it can be manipulated or misused.\n",
    "\n",
    "This is where model agnostic methods come into play. In this case we can only manipulate the inputs and observe the change in outputs. \n",
    "\n",
    "This notebook will cover two methods:\n",
    "1. Partial Dependence Plots\n",
    "2. Permutation Feature Importance\n",
    "\n",
    "Again, please reference https://christophm.github.io/interpretable-ml-book/agnostic.html for a lot more detail and more sophisticated methods."
   ]
  },
  {
   "cell_type": "code",
   "execution_count": 1,
   "metadata": {},
   "outputs": [],
   "source": [
    "import pandas as pd"
   ]
  },
  {
   "cell_type": "code",
   "execution_count": 2,
   "metadata": {},
   "outputs": [
    {
     "data": {
      "text/html": [
       "<div>\n",
       "<style scoped>\n",
       "    .dataframe tbody tr th:only-of-type {\n",
       "        vertical-align: middle;\n",
       "    }\n",
       "\n",
       "    .dataframe tbody tr th {\n",
       "        vertical-align: top;\n",
       "    }\n",
       "\n",
       "    .dataframe thead th {\n",
       "        text-align: right;\n",
       "    }\n",
       "</style>\n",
       "<table border=\"1\" class=\"dataframe\">\n",
       "  <thead>\n",
       "    <tr style=\"text-align: right;\">\n",
       "      <th></th>\n",
       "      <th>Unnamed: 0</th>\n",
       "      <th>deputat</th>\n",
       "      <th>party</th>\n",
       "      <th>present</th>\n",
       "      <th>date</th>\n",
       "      <th>Year</th>\n",
       "      <th>Month</th>\n",
       "      <th>Week</th>\n",
       "      <th>Day</th>\n",
       "      <th>Dayofweek</th>\n",
       "      <th>Is_month_end</th>\n",
       "      <th>Is_month_start</th>\n",
       "      <th>Is_quarter_end</th>\n",
       "      <th>Is_quarter_start</th>\n",
       "      <th>Is_year_end</th>\n",
       "      <th>Is_year_start</th>\n",
       "      <th>present_last_ass</th>\n",
       "      <th>present_last_5ass</th>\n",
       "    </tr>\n",
       "  </thead>\n",
       "  <tbody>\n",
       "    <tr>\n",
       "      <th>5</th>\n",
       "      <td>5</td>\n",
       "      <td>АДЛЕН ШУКРИ ШЕВКЕД</td>\n",
       "      <td>ДПС</td>\n",
       "      <td>False</td>\n",
       "      <td>2019-01-24</td>\n",
       "      <td>2019</td>\n",
       "      <td>1</td>\n",
       "      <td>4</td>\n",
       "      <td>24</td>\n",
       "      <td>3</td>\n",
       "      <td>False</td>\n",
       "      <td>False</td>\n",
       "      <td>False</td>\n",
       "      <td>False</td>\n",
       "      <td>False</td>\n",
       "      <td>False</td>\n",
       "      <td>0.0</td>\n",
       "      <td>0.6</td>\n",
       "    </tr>\n",
       "    <tr>\n",
       "      <th>6</th>\n",
       "      <td>6</td>\n",
       "      <td>АДЛЕН ШУКРИ ШЕВКЕД</td>\n",
       "      <td>ДПС</td>\n",
       "      <td>False</td>\n",
       "      <td>2019-01-25</td>\n",
       "      <td>2019</td>\n",
       "      <td>1</td>\n",
       "      <td>4</td>\n",
       "      <td>25</td>\n",
       "      <td>4</td>\n",
       "      <td>False</td>\n",
       "      <td>False</td>\n",
       "      <td>False</td>\n",
       "      <td>False</td>\n",
       "      <td>False</td>\n",
       "      <td>False</td>\n",
       "      <td>0.0</td>\n",
       "      <td>0.4</td>\n",
       "    </tr>\n",
       "    <tr>\n",
       "      <th>7</th>\n",
       "      <td>7</td>\n",
       "      <td>АДЛЕН ШУКРИ ШЕВКЕД</td>\n",
       "      <td>ДПС</td>\n",
       "      <td>False</td>\n",
       "      <td>2019-01-30</td>\n",
       "      <td>2019</td>\n",
       "      <td>1</td>\n",
       "      <td>5</td>\n",
       "      <td>30</td>\n",
       "      <td>2</td>\n",
       "      <td>False</td>\n",
       "      <td>False</td>\n",
       "      <td>False</td>\n",
       "      <td>False</td>\n",
       "      <td>False</td>\n",
       "      <td>False</td>\n",
       "      <td>0.0</td>\n",
       "      <td>0.4</td>\n",
       "    </tr>\n",
       "    <tr>\n",
       "      <th>8</th>\n",
       "      <td>8</td>\n",
       "      <td>АДЛЕН ШУКРИ ШЕВКЕД</td>\n",
       "      <td>ДПС</td>\n",
       "      <td>False</td>\n",
       "      <td>2019-01-31</td>\n",
       "      <td>2019</td>\n",
       "      <td>1</td>\n",
       "      <td>5</td>\n",
       "      <td>31</td>\n",
       "      <td>3</td>\n",
       "      <td>True</td>\n",
       "      <td>False</td>\n",
       "      <td>False</td>\n",
       "      <td>False</td>\n",
       "      <td>False</td>\n",
       "      <td>False</td>\n",
       "      <td>0.0</td>\n",
       "      <td>0.2</td>\n",
       "    </tr>\n",
       "    <tr>\n",
       "      <th>9</th>\n",
       "      <td>9</td>\n",
       "      <td>АДЛЕН ШУКРИ ШЕВКЕД</td>\n",
       "      <td>ДПС</td>\n",
       "      <td>False</td>\n",
       "      <td>2019-02-01</td>\n",
       "      <td>2019</td>\n",
       "      <td>2</td>\n",
       "      <td>5</td>\n",
       "      <td>1</td>\n",
       "      <td>4</td>\n",
       "      <td>False</td>\n",
       "      <td>True</td>\n",
       "      <td>False</td>\n",
       "      <td>False</td>\n",
       "      <td>False</td>\n",
       "      <td>False</td>\n",
       "      <td>0.0</td>\n",
       "      <td>0.0</td>\n",
       "    </tr>\n",
       "  </tbody>\n",
       "</table>\n",
       "</div>"
      ],
      "text/plain": [
       "   Unnamed: 0             deputat party  present        date  Year  Month  \\\n",
       "5           5  АДЛЕН ШУКРИ ШЕВКЕД   ДПС    False  2019-01-24  2019      1   \n",
       "6           6  АДЛЕН ШУКРИ ШЕВКЕД   ДПС    False  2019-01-25  2019      1   \n",
       "7           7  АДЛЕН ШУКРИ ШЕВКЕД   ДПС    False  2019-01-30  2019      1   \n",
       "8           8  АДЛЕН ШУКРИ ШЕВКЕД   ДПС    False  2019-01-31  2019      1   \n",
       "9           9  АДЛЕН ШУКРИ ШЕВКЕД   ДПС    False  2019-02-01  2019      2   \n",
       "\n",
       "   Week  Day  Dayofweek  Is_month_end  Is_month_start  Is_quarter_end  \\\n",
       "5     4   24          3         False           False           False   \n",
       "6     4   25          4         False           False           False   \n",
       "7     5   30          2         False           False           False   \n",
       "8     5   31          3          True           False           False   \n",
       "9     5    1          4         False            True           False   \n",
       "\n",
       "   Is_quarter_start  Is_year_end  Is_year_start  present_last_ass  \\\n",
       "5             False        False          False               0.0   \n",
       "6             False        False          False               0.0   \n",
       "7             False        False          False               0.0   \n",
       "8             False        False          False               0.0   \n",
       "9             False        False          False               0.0   \n",
       "\n",
       "   present_last_5ass  \n",
       "5                0.6  \n",
       "6                0.4  \n",
       "7                0.4  \n",
       "8                0.2  \n",
       "9                0.0  "
      ]
     },
     "execution_count": 2,
     "metadata": {},
     "output_type": "execute_result"
    }
   ],
   "source": [
    "data = pd.read_csv('../data/deputat_daily_features.csv').dropna()\n",
    "data.head()"
   ]
  },
  {
   "cell_type": "code",
   "execution_count": 18,
   "metadata": {},
   "outputs": [],
   "source": [
    "\n",
    "\n",
    "\n",
    "numerical_features = ['present_last_ass', 'present_last_5ass']\n",
    "categorical_features = ['party']\n",
    "\n",
    "def prepare_features_df(data):\n",
    "    features_df = data[numerical_features].copy()\n",
    "\n",
    "    for cat_feat in categorical_features:\n",
    "        dummies = pd.get_dummies(data[cat_feat], prefix=cat_feat)\n",
    "        dummies = dummies.drop(columns=dummies.columns[:1])\n",
    "        features_df = pd.concat([features_df, dummies],axis=1)\n",
    "    features_df['bias'] = 1\n",
    "    return features_df\n",
    "\n",
    "\n",
    "    \n",
    "features_df = prepare_features_df(data)"
   ]
  },
  {
   "cell_type": "markdown",
   "metadata": {},
   "source": [
    "## Train the black box model\n",
    "\n",
    "To test the methods, we will be using a deep neural network - a 3-layer perceptron. We're using it for illustrative purposes, so we don't need to go overly complex.\n"
   ]
  },
  {
   "cell_type": "code",
   "execution_count": 19,
   "metadata": {},
   "outputs": [],
   "source": [
    "from sklearn.neural_network import MLPClassifier"
   ]
  },
  {
   "cell_type": "code",
   "execution_count": 20,
   "metadata": {},
   "outputs": [],
   "source": [
    "# define the model\n",
    "model = MLPClassifier(hidden_layer_sizes=(50, 20, 10))"
   ]
  },
  {
   "cell_type": "code",
   "execution_count": 21,
   "metadata": {},
   "outputs": [
    {
     "data": {
      "text/plain": [
       "MLPClassifier(hidden_layer_sizes=(50, 20, 10))"
      ]
     },
     "execution_count": 21,
     "metadata": {},
     "output_type": "execute_result"
    }
   ],
   "source": [
    "# fit the model\n",
    "model.fit(features_df.values, data['present'])"
   ]
  },
  {
   "cell_type": "code",
   "execution_count": 22,
   "metadata": {},
   "outputs": [
    {
     "data": {
      "text/plain": [
       "0.748754081457295"
      ]
     },
     "execution_count": 22,
     "metadata": {},
     "output_type": "execute_result"
    }
   ],
   "source": [
    "# score the model\n",
    "model.score(features_df.values, data['present'])"
   ]
  },
  {
   "cell_type": "code",
   "execution_count": 23,
   "metadata": {},
   "outputs": [],
   "source": [
    "predictions = model.predict_proba(features_df.values)[:,1]"
   ]
  },
  {
   "cell_type": "code",
   "execution_count": 24,
   "metadata": {},
   "outputs": [],
   "source": [
    "from sklearn.inspection import partial_dependence,plot_partial_dependence\n",
    "import matplotlib.pyplot as plt\n",
    "import seaborn as sns\n",
    "sns.set('notebook')\n",
    "sns.set_style('white')"
   ]
  },
  {
   "cell_type": "code",
   "execution_count": 25,
   "metadata": {},
   "outputs": [
    {
     "data": {
      "text/plain": [
       "(0.5,\n",
       " [0.20282333981124948,\n",
       "  0.27887351498049373,\n",
       "  0.3697469947314475,\n",
       "  0.43194968721509097,\n",
       "  0.49120598614331995,\n",
       "  0.5481514816150167,\n",
       "  0.603072809950831,\n",
       "  0.6596660083172267,\n",
       "  0.711928179088372,\n",
       "  0.7590362802501419,\n",
       "  0.7973791604670964])"
      ]
     },
     "execution_count": 25,
     "metadata": {},
     "output_type": "execute_result"
    }
   ],
   "source": [
    "before = model.predict_proba(features_df.values).mean()\n",
    "afters = []\n",
    "for feat_value in [0, 0.1,0.2,0.3,0.4,0.5,0.6,0.7,0.8, 0.9, 1.]:    \n",
    "    modified_data = data.copy()\n",
    "    modified_data['present_last_5ass'] = feat_value\n",
    "    partial_dep_df = prepare_features_df(modified_data)\n",
    "    after = model.predict_proba(partial_dep_df.values)[:,1].mean()\n",
    "    afters.append(after)\n",
    "    \n",
    "before, afters"
   ]
  },
  {
   "cell_type": "code",
   "execution_count": 26,
   "metadata": {},
   "outputs": [
    {
     "data": {
      "text/plain": [
       "(0, 0.8973791604670964)"
      ]
     },
     "execution_count": 26,
     "metadata": {},
     "output_type": "execute_result"
    },
    {
     "data": {
      "image/png": "[encoded data removed]",
      "text/plain": [
       "<Figure size 432x288 with 1 Axes>"
      ]
     },
     "metadata": {},
     "output_type": "display_data"
    }
   ],
   "source": [
    "fig, ax = plt.subplots()\n",
    "sns.despine(fig)\n",
    "ax.plot([0, 0.1,0.2,0.3,0.4,0.5,0.6,0.7,0.8, 0.9, 1.], afters, 'bo-')\n",
    "ax.set_ylim((0, max(afters) + 0.1))"
   ]
  },
  {
   "cell_type": "code",
   "execution_count": 27,
   "metadata": {},
   "outputs": [
    {
     "data": {
      "text/plain": [
       "Index(['Unnamed: 0', 'deputat', 'party', 'present', 'date', 'Year', 'Month',\n",
       "       'Week', 'Day', 'Dayofweek', 'Is_month_end', 'Is_month_start',\n",
       "       'Is_quarter_end', 'Is_quarter_start', 'Is_year_end', 'Is_year_start',\n",
       "       'present_last_ass', 'present_last_5ass'],\n",
       "      dtype='object')"
      ]
     },
     "execution_count": 27,
     "metadata": {},
     "output_type": "execute_result"
    }
   ],
   "source": [
    "data.columns"
   ]
  },
  {
   "cell_type": "code",
   "execution_count": 12,
   "metadata": {},
   "outputs": [
    {
     "data": {
      "text/plain": [
       "Index(['present_last_ass', 'present_last_5ass', 'party_ГЕРБ', 'party_ДПС',\n",
       "       'party_НЕЗ', 'party_ОП', 'party_ПГБСП', 'bias'],\n",
       "      dtype='object')"
      ]
     },
     "execution_count": 12,
     "metadata": {},
     "output_type": "execute_result"
    }
   ],
   "source": [
    "features_df.columns"
   ]
  },
  {
   "cell_type": "code",
   "execution_count": 14,
   "metadata": {},
   "outputs": [
    {
     "data": {
      "image/png": "[encoded data removed]",
      "text/plain": [
       "<Figure size 1152x648 with 3 Axes>"
      ]
     },
     "metadata": {},
     "output_type": "display_data"
    }
   ],
   "source": [
    "fig, ax = plt.subplots(figsize=(16,9))\n",
    "plot_partial_dependence(model,features_df.values,feature_names=features_df.columns.tolist(), features=[\"present_last_5ass\", 'present_last_ass'],ax=ax);"
   ]
  },
  {
   "cell_type": "code",
   "execution_count": null,
   "metadata": {},
   "outputs": [],
   "source": [
    "\n"
   ]
  }
 ],
 "metadata": {
  "kernelspec": {
   "display_name": "Python 3",
   "language": "python",
   "name": "python3"
  },
  "language_info": {
   "codemirror_mode": {
    "name": "ipython",
    "version": 3
   },
   "file_extension": ".py",
   "mimetype": "text/x-python",
   "name": "python",
   "nbconvert_exporter": "python",
   "pygments_lexer": "ipython3",
   "version": "3.6.9"
  },
  "varInspector": {
   "cols": {
    "lenName": 16,
    "lenType": 16,
    "lenVar": 40
   },
   "kernels_config": {
    "python": {
     "delete_cmd_postfix": "",
     "delete_cmd_prefix": "del ",
     "library": "var_list.py",
     "varRefreshCmd": "print(var_dic_list())"
    },
    "r": {
     "delete_cmd_postfix": ") ",
     "delete_cmd_prefix": "rm(",
     "library": "var_list.r",
     "varRefreshCmd": "cat(var_dic_list()) "
    }
   },
   "types_to_exclude": [
    "module",
    "function",
    "builtin_function_or_method",
    "instance",
    "_Feature"
   ],
   "window_display": false
  }
 },
 "nbformat": 4,
 "nbformat_minor": 4
}
