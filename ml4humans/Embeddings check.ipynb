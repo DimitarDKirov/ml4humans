{
 "cells": [
  {
   "cell_type": "code",
   "execution_count": 6,
   "metadata": {},
   "outputs": [],
   "source": [
    "from gensim.models import KeyedVectors"
   ]
  },
  {
   "cell_type": "code",
   "execution_count": 7,
   "metadata": {},
   "outputs": [],
   "source": [
    "vectors = KeyedVectors.load_word2vec_format(\"/data/embeddings/glove.42B.300d.txt\", limit=10000, binary=False)"
   ]
  },
  {
   "cell_type": "code",
   "execution_count": 8,
   "metadata": {},
   "outputs": [
    {
     "data": {
      "text/plain": [
       "[('italy', 0.7403595447540283),\n",
       " ('rome', 0.6906934976577759),\n",
       " ('paris', 0.663403332233429),\n",
       " ('milan', 0.6564183235168457),\n",
       " ('venice', 0.6281206607818604),\n",
       " ('florence', 0.5941162109375),\n",
       " ('italian', 0.5852249264717102),\n",
       " ('tokyo', 0.5147964954376221),\n",
       " ('nyc', 0.5069337487220764),\n",
       " ('vienna', 0.49941807985305786)]"
      ]
     },
     "execution_count": 8,
     "metadata": {},
     "output_type": "execute_result"
    }
   ],
   "source": [
    "vectors.similar_by_vector(vectors['paris'] - vectors['france'] + vectors['italy'])"
   ]
  },
  {
   "cell_type": "code",
   "execution_count": 4,
   "metadata": {},
   "outputs": [
    {
     "data": {
      "text/plain": [
       "[('king', 0.8237729668617249),\n",
       " ('queen', 0.78522127866745),\n",
       " ('prince', 0.6025958061218262),\n",
       " ('princess', 0.5830840468406677),\n",
       " ('elizabeth', 0.5545557737350464),\n",
       " ('woman', 0.5479353666305542),\n",
       " ('daughter', 0.5454432368278503),\n",
       " ('mother', 0.5362002849578857),\n",
       " ('mary', 0.5338884592056274),\n",
       " ('lady', 0.5150296092033386)]"
      ]
     },
     "execution_count": 4,
     "metadata": {},
     "output_type": "execute_result"
    }
   ],
   "source": [
    "vectors.similar_by_vector(vectors['king'] - vectors['man'] + vectors['woman'])"
   ]
  },
  {
   "cell_type": "code",
   "execution_count": 5,
   "metadata": {},
   "outputs": [
    {
     "data": {
      "text/plain": [
       "[('doctor', 0.8585887551307678),\n",
       " ('physician', 0.6578839421272278),\n",
       " ('doctors', 0.6548224687576294),\n",
       " ('nurse', 0.6460488438606262),\n",
       " ('pregnant', 0.6185165047645569),\n",
       " ('pregnancy', 0.586057722568512),\n",
       " ('woman', 0.5806977152824402),\n",
       " ('patient', 0.5627608299255371),\n",
       " ('surgeon', 0.5579137802124023),\n",
       " ('medical', 0.543116569519043)]"
      ]
     },
     "execution_count": 5,
     "metadata": {},
     "output_type": "execute_result"
    }
   ],
   "source": [
    "vectors.similar_by_vector(vectors['doctor'] - vectors['man'] + vectors['woman'])"
   ]
  },
  {
   "cell_type": "code",
   "execution_count": null,
   "metadata": {},
   "outputs": [],
   "source": []
  }
 ],
 "metadata": {
  "kernelspec": {
   "display_name": "Python 3",
   "language": "python",
   "name": "python3"
  },
  "language_info": {
   "codemirror_mode": {
    "name": "ipython",
    "version": 3
   },
   "file_extension": ".py",
   "mimetype": "text/x-python",
   "name": "python",
   "nbconvert_exporter": "python",
   "pygments_lexer": "ipython3",
   "version": "3.6.9"
  },
  "varInspector": {
   "cols": {
    "lenName": 16,
    "lenType": 16,
    "lenVar": 40
   },
   "kernels_config": {
    "python": {
     "delete_cmd_postfix": "",
     "delete_cmd_prefix": "del ",
     "library": "var_list.py",
     "varRefreshCmd": "print(var_dic_list())"
    },
    "r": {
     "delete_cmd_postfix": ") ",
     "delete_cmd_prefix": "rm(",
     "library": "var_list.r",
     "varRefreshCmd": "cat(var_dic_list()) "
    }
   },
   "types_to_exclude": [
    "module",
    "function",
    "builtin_function_or_method",
    "instance",
    "_Feature"
   ],
   "window_display": false
  }
 },
 "nbformat": 4,
 "nbformat_minor": 4
}
